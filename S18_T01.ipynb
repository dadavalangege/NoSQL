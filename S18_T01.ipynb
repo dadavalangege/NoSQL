{
 "cells": [
  {
   "cell_type": "markdown",
   "id": "b021d2e6",
   "metadata": {},
   "source": [
    "# Nivell 1\n",
    "\n",
    "- Exercici 1\n",
    "\n",
    "Crea una base de dades NoSQL utilitzant MongoDB. Afegeix-li algunes dades d'exemple que et permetin comprovar que ets capaç de processar-ne la informació de manera bàsica.\n",
    "\n",
    "- Exercici 2\n",
    "\n",
    "Connecta la base de dades NoSQL a Python utilitzant per exemple pymongo."
   ]
  },
  {
   "cell_type": "markdown",
   "id": "95b3a507",
   "metadata": {},
   "source": [
    "Hem creat una base de dades amb MongoDB i li hem afegit algunes dades. A continuació ens connectarem a la base de dades i mostrarem les dades que vam afegir."
   ]
  },
  {
   "cell_type": "code",
   "execution_count": 51,
   "id": "4f50f072",
   "metadata": {},
   "outputs": [],
   "source": [
    "import pymongo\n",
    "import pandas as pd\n",
    "import matplotlib.pyplot as plt\n",
    "import seaborn as sns"
   ]
  },
  {
   "cell_type": "code",
   "execution_count": 20,
   "id": "0ef879f3",
   "metadata": {},
   "outputs": [],
   "source": [
    "myclient = pymongo.MongoClient(\"mongodb://localhost:27017/\")\n",
    "\n",
    "mydb = myclient[\"itacademy\"]"
   ]
  },
  {
   "cell_type": "code",
   "execution_count": 14,
   "id": "4812eb8d",
   "metadata": {
    "scrolled": true
   },
   "outputs": [
    {
     "name": "stdout",
     "output_type": "stream",
     "text": [
      "['admin', 'config', 'guiaRestaurants', 'itacademy', 'local', 'optica', 'pizzeria', 'test']\n"
     ]
    }
   ],
   "source": [
    "print(myclient.list_database_names())"
   ]
  },
  {
   "cell_type": "code",
   "execution_count": 21,
   "id": "a5ee9c7f",
   "metadata": {},
   "outputs": [],
   "source": [
    "mycol = mydb[\"itacademy\"]"
   ]
  },
  {
   "cell_type": "code",
   "execution_count": 28,
   "id": "1e3e2aa1",
   "metadata": {
    "scrolled": false
   },
   "outputs": [
    {
     "name": "stdout",
     "output_type": "stream",
     "text": [
      "{'_id': ObjectId('616d85381446d4a35a4f90c3'), 'nom': 'Pedro', 'cognom': 'Armengol', 'salari': 7000, 'carrec': 'CEO', 'achievements': 539, 'sexe': 'masculi'}\n",
      "{'_id': ObjectId('616da6721446d4a35a4f90c5'), 'nom': 'Manolita', 'cognom': 'Martinez', 'salari': 8000, 'carrec': 'CEO', 'achievements': 655, 'sexe': 'femeni'}\n",
      "{'_id': ObjectId('616da6b61446d4a35a4f90c7'), 'nom': 'Alba', 'cognom': 'Guimera', 'salari': 1000, 'carrec': 'secretaria', 'achievements': 11, 'sexe': 'femeni'}\n",
      "{'_id': ObjectId('616da6fa1446d4a35a4f90c8'), 'nom': 'Pepito', 'cognom': 'Jimenez', 'salari': 1000, 'carrec': 'secretaria', 'achievements': 14, 'sexe': 'altres'}\n",
      "{'_id': ObjectId('616da7ef1446d4a35a4f90c9'), 'nom': 'Martin', 'cognom': 'Donosti', 'salari': 2000, 'carrec': 'marketing', 'achievements': 96, 'sexe': 'masculi'}\n",
      "{'_id': ObjectId('616da86b1446d4a35a4f90ca'), 'nom': 'Quique', 'cognom': 'Guimera', 'salari': 1000, 'carrec': 'secretaria', 'achievements': 5, 'sexe': 'femeni'}\n",
      "{'_id': ObjectId('616ebff53b87eb2bc289f5ab'), 'nom': 'Ona', 'cognom': 'Perez', 'salari': 2300, 'carrec': 'marketing', 'achievements': 189, 'sexe': 'femeni'}\n"
     ]
    }
   ],
   "source": [
    "for x in mycol.find():\n",
    "    print(x)"
   ]
  },
  {
   "cell_type": "markdown",
   "id": "063aecd7",
   "metadata": {},
   "source": [
    "# Nivell 2\n",
    "\n",
    "- Exercici 1\n",
    "\n",
    "Carega algunes consultes senzilles a un Pandas Dataframe. "
   ]
  },
  {
   "cell_type": "markdown",
   "id": "754918b6",
   "metadata": {},
   "source": [
    "DataFrame de totes les dades disponibles."
   ]
  },
  {
   "cell_type": "code",
   "execution_count": 33,
   "id": "77b05d45",
   "metadata": {
    "scrolled": false
   },
   "outputs": [
    {
     "data": {
      "text/html": [
       "<div>\n",
       "<style scoped>\n",
       "    .dataframe tbody tr th:only-of-type {\n",
       "        vertical-align: middle;\n",
       "    }\n",
       "\n",
       "    .dataframe tbody tr th {\n",
       "        vertical-align: top;\n",
       "    }\n",
       "\n",
       "    .dataframe thead th {\n",
       "        text-align: right;\n",
       "    }\n",
       "</style>\n",
       "<table border=\"1\" class=\"dataframe\">\n",
       "  <thead>\n",
       "    <tr style=\"text-align: right;\">\n",
       "      <th></th>\n",
       "      <th>_id</th>\n",
       "      <th>nom</th>\n",
       "      <th>cognom</th>\n",
       "      <th>salari</th>\n",
       "      <th>carrec</th>\n",
       "      <th>achievements</th>\n",
       "      <th>sexe</th>\n",
       "    </tr>\n",
       "  </thead>\n",
       "  <tbody>\n",
       "    <tr>\n",
       "      <th>0</th>\n",
       "      <td>616d85381446d4a35a4f90c3</td>\n",
       "      <td>Pedro</td>\n",
       "      <td>Armengol</td>\n",
       "      <td>7000</td>\n",
       "      <td>CEO</td>\n",
       "      <td>539</td>\n",
       "      <td>masculi</td>\n",
       "    </tr>\n",
       "    <tr>\n",
       "      <th>1</th>\n",
       "      <td>616da6721446d4a35a4f90c5</td>\n",
       "      <td>Manolita</td>\n",
       "      <td>Martinez</td>\n",
       "      <td>8000</td>\n",
       "      <td>CEO</td>\n",
       "      <td>655</td>\n",
       "      <td>femeni</td>\n",
       "    </tr>\n",
       "    <tr>\n",
       "      <th>2</th>\n",
       "      <td>616da6b61446d4a35a4f90c7</td>\n",
       "      <td>Alba</td>\n",
       "      <td>Guimera</td>\n",
       "      <td>1000</td>\n",
       "      <td>secretaria</td>\n",
       "      <td>11</td>\n",
       "      <td>femeni</td>\n",
       "    </tr>\n",
       "    <tr>\n",
       "      <th>3</th>\n",
       "      <td>616da6fa1446d4a35a4f90c8</td>\n",
       "      <td>Pepito</td>\n",
       "      <td>Jimenez</td>\n",
       "      <td>1000</td>\n",
       "      <td>secretaria</td>\n",
       "      <td>14</td>\n",
       "      <td>altres</td>\n",
       "    </tr>\n",
       "    <tr>\n",
       "      <th>4</th>\n",
       "      <td>616da7ef1446d4a35a4f90c9</td>\n",
       "      <td>Martin</td>\n",
       "      <td>Donosti</td>\n",
       "      <td>2000</td>\n",
       "      <td>marketing</td>\n",
       "      <td>96</td>\n",
       "      <td>masculi</td>\n",
       "    </tr>\n",
       "    <tr>\n",
       "      <th>5</th>\n",
       "      <td>616da86b1446d4a35a4f90ca</td>\n",
       "      <td>Quique</td>\n",
       "      <td>Guimera</td>\n",
       "      <td>1000</td>\n",
       "      <td>secretaria</td>\n",
       "      <td>5</td>\n",
       "      <td>femeni</td>\n",
       "    </tr>\n",
       "    <tr>\n",
       "      <th>6</th>\n",
       "      <td>616ebff53b87eb2bc289f5ab</td>\n",
       "      <td>Ona</td>\n",
       "      <td>Perez</td>\n",
       "      <td>2300</td>\n",
       "      <td>marketing</td>\n",
       "      <td>189</td>\n",
       "      <td>femeni</td>\n",
       "    </tr>\n",
       "  </tbody>\n",
       "</table>\n",
       "</div>"
      ],
      "text/plain": [
       "                        _id       nom    cognom  salari      carrec  \\\n",
       "0  616d85381446d4a35a4f90c3     Pedro  Armengol    7000         CEO   \n",
       "1  616da6721446d4a35a4f90c5  Manolita  Martinez    8000         CEO   \n",
       "2  616da6b61446d4a35a4f90c7      Alba   Guimera    1000  secretaria   \n",
       "3  616da6fa1446d4a35a4f90c8    Pepito   Jimenez    1000  secretaria   \n",
       "4  616da7ef1446d4a35a4f90c9    Martin   Donosti    2000   marketing   \n",
       "5  616da86b1446d4a35a4f90ca    Quique   Guimera    1000  secretaria   \n",
       "6  616ebff53b87eb2bc289f5ab       Ona     Perez    2300   marketing   \n",
       "\n",
       "   achievements     sexe  \n",
       "0           539  masculi  \n",
       "1           655   femeni  \n",
       "2            11   femeni  \n",
       "3            14   altres  \n",
       "4            96  masculi  \n",
       "5             5   femeni  \n",
       "6           189   femeni  "
      ]
     },
     "execution_count": 33,
     "metadata": {},
     "output_type": "execute_result"
    }
   ],
   "source": [
    "records = []\n",
    "for x in mycol.find():\n",
    "    records.append(x)\n",
    "\n",
    "data_df = pd.DataFrame(records)\n",
    "data_df"
   ]
  },
  {
   "cell_type": "markdown",
   "id": "2c8849d7",
   "metadata": {},
   "source": [
    "Només les que treballin de secretaria."
   ]
  },
  {
   "cell_type": "code",
   "execution_count": 37,
   "id": "58fff099",
   "metadata": {
    "scrolled": true
   },
   "outputs": [
    {
     "data": {
      "text/html": [
       "<div>\n",
       "<style scoped>\n",
       "    .dataframe tbody tr th:only-of-type {\n",
       "        vertical-align: middle;\n",
       "    }\n",
       "\n",
       "    .dataframe tbody tr th {\n",
       "        vertical-align: top;\n",
       "    }\n",
       "\n",
       "    .dataframe thead th {\n",
       "        text-align: right;\n",
       "    }\n",
       "</style>\n",
       "<table border=\"1\" class=\"dataframe\">\n",
       "  <thead>\n",
       "    <tr style=\"text-align: right;\">\n",
       "      <th></th>\n",
       "      <th>_id</th>\n",
       "      <th>nom</th>\n",
       "      <th>cognom</th>\n",
       "      <th>salari</th>\n",
       "      <th>carrec</th>\n",
       "      <th>achievements</th>\n",
       "      <th>sexe</th>\n",
       "    </tr>\n",
       "  </thead>\n",
       "  <tbody>\n",
       "    <tr>\n",
       "      <th>0</th>\n",
       "      <td>616da6b61446d4a35a4f90c7</td>\n",
       "      <td>Alba</td>\n",
       "      <td>Guimera</td>\n",
       "      <td>1000</td>\n",
       "      <td>secretaria</td>\n",
       "      <td>11</td>\n",
       "      <td>femeni</td>\n",
       "    </tr>\n",
       "    <tr>\n",
       "      <th>1</th>\n",
       "      <td>616da6fa1446d4a35a4f90c8</td>\n",
       "      <td>Pepito</td>\n",
       "      <td>Jimenez</td>\n",
       "      <td>1000</td>\n",
       "      <td>secretaria</td>\n",
       "      <td>14</td>\n",
       "      <td>altres</td>\n",
       "    </tr>\n",
       "    <tr>\n",
       "      <th>2</th>\n",
       "      <td>616da86b1446d4a35a4f90ca</td>\n",
       "      <td>Quique</td>\n",
       "      <td>Guimera</td>\n",
       "      <td>1000</td>\n",
       "      <td>secretaria</td>\n",
       "      <td>5</td>\n",
       "      <td>femeni</td>\n",
       "    </tr>\n",
       "  </tbody>\n",
       "</table>\n",
       "</div>"
      ],
      "text/plain": [
       "                        _id     nom   cognom  salari      carrec  \\\n",
       "0  616da6b61446d4a35a4f90c7    Alba  Guimera    1000  secretaria   \n",
       "1  616da6fa1446d4a35a4f90c8  Pepito  Jimenez    1000  secretaria   \n",
       "2  616da86b1446d4a35a4f90ca  Quique  Guimera    1000  secretaria   \n",
       "\n",
       "   achievements    sexe  \n",
       "0            11  femeni  \n",
       "1            14  altres  \n",
       "2             5  femeni  "
      ]
     },
     "execution_count": 37,
     "metadata": {},
     "output_type": "execute_result"
    }
   ],
   "source": [
    "records = []\n",
    "for x in mycol.find({'carrec': \"secretaria\"}):\n",
    "    records.append(x)\n",
    "    \n",
    "pd.DataFrame(records)"
   ]
  },
  {
   "cell_type": "markdown",
   "id": "d5a62c5d",
   "metadata": {},
   "source": [
    "Buscar per cognom Armengol."
   ]
  },
  {
   "cell_type": "code",
   "execution_count": 46,
   "id": "4bb9bdcc",
   "metadata": {
    "scrolled": true
   },
   "outputs": [
    {
     "data": {
      "text/html": [
       "<div>\n",
       "<style scoped>\n",
       "    .dataframe tbody tr th:only-of-type {\n",
       "        vertical-align: middle;\n",
       "    }\n",
       "\n",
       "    .dataframe tbody tr th {\n",
       "        vertical-align: top;\n",
       "    }\n",
       "\n",
       "    .dataframe thead th {\n",
       "        text-align: right;\n",
       "    }\n",
       "</style>\n",
       "<table border=\"1\" class=\"dataframe\">\n",
       "  <thead>\n",
       "    <tr style=\"text-align: right;\">\n",
       "      <th></th>\n",
       "      <th>_id</th>\n",
       "      <th>nom</th>\n",
       "      <th>cognom</th>\n",
       "      <th>salari</th>\n",
       "      <th>carrec</th>\n",
       "      <th>achievements</th>\n",
       "      <th>sexe</th>\n",
       "    </tr>\n",
       "  </thead>\n",
       "  <tbody>\n",
       "    <tr>\n",
       "      <th>0</th>\n",
       "      <td>616d85381446d4a35a4f90c3</td>\n",
       "      <td>Pedro</td>\n",
       "      <td>Armengol</td>\n",
       "      <td>7000</td>\n",
       "      <td>CEO</td>\n",
       "      <td>539</td>\n",
       "      <td>masculi</td>\n",
       "    </tr>\n",
       "  </tbody>\n",
       "</table>\n",
       "</div>"
      ],
      "text/plain": [
       "                        _id    nom    cognom  salari carrec  achievements  \\\n",
       "0  616d85381446d4a35a4f90c3  Pedro  Armengol    7000    CEO           539   \n",
       "\n",
       "      sexe  \n",
       "0  masculi  "
      ]
     },
     "execution_count": 46,
     "metadata": {},
     "output_type": "execute_result"
    }
   ],
   "source": [
    "records = []\n",
    "for x in mycol.find({'cognom': \"Armengol\"}):\n",
    "    records.append(x)\n",
    "    \n",
    "pd.DataFrame(records)"
   ]
  },
  {
   "cell_type": "markdown",
   "id": "754accfb",
   "metadata": {},
   "source": [
    "Només amb salari superior a 1500 euros."
   ]
  },
  {
   "cell_type": "code",
   "execution_count": 39,
   "id": "b198e8af",
   "metadata": {
    "scrolled": false
   },
   "outputs": [
    {
     "data": {
      "text/html": [
       "<div>\n",
       "<style scoped>\n",
       "    .dataframe tbody tr th:only-of-type {\n",
       "        vertical-align: middle;\n",
       "    }\n",
       "\n",
       "    .dataframe tbody tr th {\n",
       "        vertical-align: top;\n",
       "    }\n",
       "\n",
       "    .dataframe thead th {\n",
       "        text-align: right;\n",
       "    }\n",
       "</style>\n",
       "<table border=\"1\" class=\"dataframe\">\n",
       "  <thead>\n",
       "    <tr style=\"text-align: right;\">\n",
       "      <th></th>\n",
       "      <th>_id</th>\n",
       "      <th>nom</th>\n",
       "      <th>cognom</th>\n",
       "      <th>salari</th>\n",
       "      <th>carrec</th>\n",
       "      <th>achievements</th>\n",
       "      <th>sexe</th>\n",
       "    </tr>\n",
       "  </thead>\n",
       "  <tbody>\n",
       "    <tr>\n",
       "      <th>0</th>\n",
       "      <td>616d85381446d4a35a4f90c3</td>\n",
       "      <td>Pedro</td>\n",
       "      <td>Armengol</td>\n",
       "      <td>7000</td>\n",
       "      <td>CEO</td>\n",
       "      <td>539</td>\n",
       "      <td>masculi</td>\n",
       "    </tr>\n",
       "    <tr>\n",
       "      <th>1</th>\n",
       "      <td>616da6721446d4a35a4f90c5</td>\n",
       "      <td>Manolita</td>\n",
       "      <td>Martinez</td>\n",
       "      <td>8000</td>\n",
       "      <td>CEO</td>\n",
       "      <td>655</td>\n",
       "      <td>femeni</td>\n",
       "    </tr>\n",
       "    <tr>\n",
       "      <th>2</th>\n",
       "      <td>616da7ef1446d4a35a4f90c9</td>\n",
       "      <td>Martin</td>\n",
       "      <td>Donosti</td>\n",
       "      <td>2000</td>\n",
       "      <td>marketing</td>\n",
       "      <td>96</td>\n",
       "      <td>masculi</td>\n",
       "    </tr>\n",
       "    <tr>\n",
       "      <th>3</th>\n",
       "      <td>616ebff53b87eb2bc289f5ab</td>\n",
       "      <td>Ona</td>\n",
       "      <td>Perez</td>\n",
       "      <td>2300</td>\n",
       "      <td>marketing</td>\n",
       "      <td>189</td>\n",
       "      <td>femeni</td>\n",
       "    </tr>\n",
       "  </tbody>\n",
       "</table>\n",
       "</div>"
      ],
      "text/plain": [
       "                        _id       nom    cognom  salari     carrec  \\\n",
       "0  616d85381446d4a35a4f90c3     Pedro  Armengol    7000        CEO   \n",
       "1  616da6721446d4a35a4f90c5  Manolita  Martinez    8000        CEO   \n",
       "2  616da7ef1446d4a35a4f90c9    Martin   Donosti    2000  marketing   \n",
       "3  616ebff53b87eb2bc289f5ab       Ona     Perez    2300  marketing   \n",
       "\n",
       "   achievements     sexe  \n",
       "0           539  masculi  \n",
       "1           655   femeni  \n",
       "2            96  masculi  \n",
       "3           189   femeni  "
      ]
     },
     "execution_count": 39,
     "metadata": {},
     "output_type": "execute_result"
    }
   ],
   "source": [
    "records = []\n",
    "for x in mycol.find({'salari': {\"$gt\": 1500}}):\n",
    "    records.append(x)\n",
    "    \n",
    "pd.DataFrame(records)"
   ]
  },
  {
   "cell_type": "markdown",
   "id": "927f7efb",
   "metadata": {},
   "source": [
    "Només els CEOs i les columnes de nom, cognom i salari."
   ]
  },
  {
   "cell_type": "code",
   "execution_count": 40,
   "id": "710cc609",
   "metadata": {
    "scrolled": true
   },
   "outputs": [
    {
     "data": {
      "text/html": [
       "<div>\n",
       "<style scoped>\n",
       "    .dataframe tbody tr th:only-of-type {\n",
       "        vertical-align: middle;\n",
       "    }\n",
       "\n",
       "    .dataframe tbody tr th {\n",
       "        vertical-align: top;\n",
       "    }\n",
       "\n",
       "    .dataframe thead th {\n",
       "        text-align: right;\n",
       "    }\n",
       "</style>\n",
       "<table border=\"1\" class=\"dataframe\">\n",
       "  <thead>\n",
       "    <tr style=\"text-align: right;\">\n",
       "      <th></th>\n",
       "      <th>_id</th>\n",
       "      <th>nom</th>\n",
       "      <th>cognom</th>\n",
       "      <th>salari</th>\n",
       "    </tr>\n",
       "  </thead>\n",
       "  <tbody>\n",
       "    <tr>\n",
       "      <th>0</th>\n",
       "      <td>616d85381446d4a35a4f90c3</td>\n",
       "      <td>Pedro</td>\n",
       "      <td>Armengol</td>\n",
       "      <td>7000</td>\n",
       "    </tr>\n",
       "    <tr>\n",
       "      <th>1</th>\n",
       "      <td>616da6721446d4a35a4f90c5</td>\n",
       "      <td>Manolita</td>\n",
       "      <td>Martinez</td>\n",
       "      <td>8000</td>\n",
       "    </tr>\n",
       "  </tbody>\n",
       "</table>\n",
       "</div>"
      ],
      "text/plain": [
       "                        _id       nom    cognom  salari\n",
       "0  616d85381446d4a35a4f90c3     Pedro  Armengol    7000\n",
       "1  616da6721446d4a35a4f90c5  Manolita  Martinez    8000"
      ]
     },
     "execution_count": 40,
     "metadata": {},
     "output_type": "execute_result"
    }
   ],
   "source": [
    "records = []\n",
    "for x in mycol.find({'carrec': \"CEO\"}, {'nom', 'cognom', 'salari'}):\n",
    "    records.append(x)\n",
    "    \n",
    "pd.DataFrame(records)"
   ]
  },
  {
   "cell_type": "markdown",
   "id": "528f9180",
   "metadata": {},
   "source": [
    "# Nivell 3\n",
    "\n",
    "- Exercici 1\n",
    "\n",
    "Genera un resum estadístic de la informació que conté la base de dades."
   ]
  },
  {
   "cell_type": "code",
   "execution_count": 47,
   "id": "134444ff",
   "metadata": {
    "scrolled": true
   },
   "outputs": [
    {
     "data": {
      "text/html": [
       "<div>\n",
       "<style scoped>\n",
       "    .dataframe tbody tr th:only-of-type {\n",
       "        vertical-align: middle;\n",
       "    }\n",
       "\n",
       "    .dataframe tbody tr th {\n",
       "        vertical-align: top;\n",
       "    }\n",
       "\n",
       "    .dataframe thead th {\n",
       "        text-align: right;\n",
       "    }\n",
       "</style>\n",
       "<table border=\"1\" class=\"dataframe\">\n",
       "  <thead>\n",
       "    <tr style=\"text-align: right;\">\n",
       "      <th></th>\n",
       "      <th>salari</th>\n",
       "      <th>achievements</th>\n",
       "    </tr>\n",
       "  </thead>\n",
       "  <tbody>\n",
       "    <tr>\n",
       "      <th>count</th>\n",
       "      <td>7.000000</td>\n",
       "      <td>7.000000</td>\n",
       "    </tr>\n",
       "    <tr>\n",
       "      <th>mean</th>\n",
       "      <td>3185.714286</td>\n",
       "      <td>215.571429</td>\n",
       "    </tr>\n",
       "    <tr>\n",
       "      <th>std</th>\n",
       "      <td>3006.896834</td>\n",
       "      <td>270.655905</td>\n",
       "    </tr>\n",
       "    <tr>\n",
       "      <th>min</th>\n",
       "      <td>1000.000000</td>\n",
       "      <td>5.000000</td>\n",
       "    </tr>\n",
       "    <tr>\n",
       "      <th>25%</th>\n",
       "      <td>1000.000000</td>\n",
       "      <td>12.500000</td>\n",
       "    </tr>\n",
       "    <tr>\n",
       "      <th>50%</th>\n",
       "      <td>2000.000000</td>\n",
       "      <td>96.000000</td>\n",
       "    </tr>\n",
       "    <tr>\n",
       "      <th>75%</th>\n",
       "      <td>4650.000000</td>\n",
       "      <td>364.000000</td>\n",
       "    </tr>\n",
       "    <tr>\n",
       "      <th>max</th>\n",
       "      <td>8000.000000</td>\n",
       "      <td>655.000000</td>\n",
       "    </tr>\n",
       "  </tbody>\n",
       "</table>\n",
       "</div>"
      ],
      "text/plain": [
       "            salari  achievements\n",
       "count     7.000000      7.000000\n",
       "mean   3185.714286    215.571429\n",
       "std    3006.896834    270.655905\n",
       "min    1000.000000      5.000000\n",
       "25%    1000.000000     12.500000\n",
       "50%    2000.000000     96.000000\n",
       "75%    4650.000000    364.000000\n",
       "max    8000.000000    655.000000"
      ]
     },
     "execution_count": 47,
     "metadata": {},
     "output_type": "execute_result"
    }
   ],
   "source": [
    "data_df.describe()"
   ]
  },
  {
   "cell_type": "markdown",
   "id": "3ad2baf3",
   "metadata": {},
   "source": [
    "El salari mitjà és molt alt a l'empresa (3000 euros) però la mitjana ens confirma que hi ha cert biax degut als salaris més alts (els dels CEOs). Observem el mateix amb el nombre d'achievements, la mitja és de 215 però la mitjana és de 96. Els mínims i els màxim presenten distàncies altes."
   ]
  },
  {
   "cell_type": "code",
   "execution_count": 54,
   "id": "e67a2ac2",
   "metadata": {
    "scrolled": true
   },
   "outputs": [
    {
     "data": {
      "text/plain": [
       "<AxesSubplot:xlabel='carrec', ylabel='count'>"
      ]
     },
     "execution_count": 54,
     "metadata": {},
     "output_type": "execute_result"
    },
    {
     "data": {
      "image/png": "[encoded data removed]",
      "text/plain": [
       "<Figure size 432x288 with 1 Axes>"
      ]
     },
     "metadata": {
      "needs_background": "light"
     },
     "output_type": "display_data"
    }
   ],
   "source": [
    "sns.countplot(x=data_df.carrec, hue=data_df.sexe)"
   ]
  },
  {
   "cell_type": "markdown",
   "id": "25170f43",
   "metadata": {},
   "source": [
    "Els CEOs presenten una proporció equivalent entre homes i dones. Només hi ha una persona no-binaria i ocupa el càrrec de secretària. No hi ha cap home de secretari, la major part d'aquest càrrec està ocupat per dones. A marketing passa el mateix que amb els CEOs."
   ]
  },
  {
   "cell_type": "code",
   "execution_count": 66,
   "id": "841902c3",
   "metadata": {
    "scrolled": true
   },
   "outputs": [
    {
     "data": {
      "text/plain": [
       "<AxesSubplot:xlabel='achievements', ylabel='salari'>"
      ]
     },
     "execution_count": 66,
     "metadata": {},
     "output_type": "execute_result"
    },
    {
     "data": {
      "image/png": "[encoded data removed]",
      "text/plain": [
       "<Figure size 432x288 with 1 Axes>"
      ]
     },
     "metadata": {
      "needs_background": "light"
     },
     "output_type": "display_data"
    }
   ],
   "source": [
    "sns.scatterplot(data=data_df, x='achievements', y='salari', \n",
    "                hue='carrec', style='sexe', s=100, alpha=0.5)"
   ]
  },
  {
   "cell_type": "markdown",
   "id": "a74d94f1",
   "metadata": {},
   "source": [
    "Hi ha una relació proporcional entre nombre d'achievements i el salari."
   ]
  }
 ],
 "metadata": {
  "kernelspec": {
   "display_name": "Python 3",
   "language": "python",
   "name": "python3"
  },
  "language_info": {
   "codemirror_mode": {
    "name": "ipython",
    "version": 3
   },
   "file_extension": ".py",
   "mimetype": "text/x-python",
   "name": "python",
   "nbconvert_exporter": "python",
   "pygments_lexer": "ipython3",
   "version": "3.8.8"
  }
 },
 "nbformat": 4,
 "nbformat_minor": 5
}
