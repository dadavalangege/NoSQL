{
 "cells": [
  {
   "cell_type": "code",
   "execution_count": 1,
   "id": "63f28786",
   "metadata": {},
   "outputs": [],
   "source": [
    "from pymongo import MongoClient"
   ]
  },
  {
   "cell_type": "code",
   "execution_count": null,
   "id": "a130e648",
   "metadata": {},
   "outputs": [],
   "source": [
    "#client = MongoClient('mongodb+srv://dadavalangege:<password>@gabriel.06p8z.mongodb.net/myFirstDatabase?retryWrites=true&w=majority')"
   ]
  },
  {
   "cell_type": "code",
   "execution_count": 2,
   "id": "c447a95f",
   "metadata": {},
   "outputs": [],
   "source": [
    "#db = client.get_database('gabriel')"
   ]
  },
  {
   "cell_type": "code",
   "execution_count": 3,
   "id": "f3598a7d",
   "metadata": {},
   "outputs": [],
   "source": [
    "#records = db.treballadors"
   ]
  },
  {
   "cell_type": "code",
   "execution_count": null,
   "id": "d5fb28ff",
   "metadata": {},
   "outputs": [],
   "source": []
  }
 ],
 "metadata": {
  "kernelspec": {
   "display_name": "Python 3",
   "language": "python",
   "name": "python3"
  },
  "language_info": {
   "codemirror_mode": {
    "name": "ipython",
    "version": 3
   },
   "file_extension": ".py",
   "mimetype": "text/x-python",
   "name": "python",
   "nbconvert_exporter": "python",
   "pygments_lexer": "ipython3",
   "version": "3.8.8"
  }
 },
 "nbformat": 4,
 "nbformat_minor": 5
}
